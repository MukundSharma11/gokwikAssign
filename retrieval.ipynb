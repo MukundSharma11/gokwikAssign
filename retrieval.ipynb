{
 "cells": [
  {
   "cell_type": "code",
   "execution_count": null,
   "id": "eeca1a85",
   "metadata": {},
   "outputs": [],
   "source": [
    "vector_store = {}"
   ]
  },
  {
   "cell_type": "markdown",
   "id": "4fac341b",
   "metadata": {},
   "source": [
    "Pre-Retrieval"
   ]
  },
  {
   "cell_type": "code",
   "execution_count": null,
   "id": "36c6d78c",
   "metadata": {},
   "outputs": [],
   "source": []
  },
  {
   "cell_type": "code",
   "execution_count": null,
   "id": "27521e57",
   "metadata": {},
   "outputs": [],
   "source": []
  },
  {
   "cell_type": "code",
   "execution_count": null,
   "id": "b566a0ff",
   "metadata": {},
   "outputs": [],
   "source": []
  },
  {
   "cell_type": "code",
   "execution_count": null,
   "id": "6769ccdc",
   "metadata": {},
   "outputs": [],
   "source": []
  }
 ],
 "metadata": {
  "kernelspec": {
   "display_name": "myenv",
   "language": "python",
   "name": "python3"
  },
  "language_info": {
   "name": "python",
   "version": "3.11.13"
  }
 },
 "nbformat": 4,
 "nbformat_minor": 5
}
